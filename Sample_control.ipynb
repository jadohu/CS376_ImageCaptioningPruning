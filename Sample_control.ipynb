{
  "nbformat": 4,
  "nbformat_minor": 0,
  "metadata": {
    "colab": {
      "name": "Sample_control.ipynb",
      "provenance": [],
      "collapsed_sections": []
    },
    "kernelspec": {
      "name": "python3",
      "display_name": "Python 3"
    },
    "language_info": {
      "name": "python"
    },
    "accelerator": "GPU"
  },
  "cells": [
    {
      "cell_type": "code",
      "execution_count": null,
      "metadata": {
        "colab": {
          "base_uri": "https://localhost:8080/"
        },
        "id": "v2hxW0GElHMF",
        "outputId": "7a6be765-a33f-4767-af7d-642b43f29bbf"
      },
      "outputs": [
        {
          "output_type": "stream",
          "name": "stdout",
          "text": [
            "Drive already mounted at /content/drive; to attempt to forcibly remount, call drive.mount(\"/content/drive\", force_remount=True).\n"
          ]
        }
      ],
      "source": [
        "from google.colab import drive\n",
        "drive.mount('/content/drive')"
      ]
    },
    {
      "cell_type": "code",
      "source": [
        "cd \"/content/drive/MyDrive/CS376\""
      ],
      "metadata": {
        "colab": {
          "base_uri": "https://localhost:8080/"
        },
        "id": "5hVBgalblZJM",
        "outputId": "68a6bf27-f88e-4037-b74c-b2f74335cac1"
      },
      "execution_count": null,
      "outputs": [
        {
          "output_type": "stream",
          "name": "stdout",
          "text": [
            "/content/drive/MyDrive/CS376\n"
          ]
        }
      ]
    },
    {
      "cell_type": "code",
      "source": [
        "cd \"datasets\""
      ],
      "metadata": {
        "colab": {
          "base_uri": "https://localhost:8080/"
        },
        "id": "UGhK3hM5uWa0",
        "outputId": "5467f3ab-5fe2-4241-be6d-fc20bbb9507f"
      },
      "execution_count": null,
      "outputs": [
        {
          "output_type": "stream",
          "name": "stdout",
          "text": [
            "/content/drive/MyDrive/CS376/datasets\n"
          ]
        }
      ]
    },
    {
      "cell_type": "code",
      "source": [
        "!unzip val2014.zip"
      ],
      "metadata": {
        "colab": {
          "base_uri": "https://localhost:8080/"
        },
        "id": "NojMwT23uYqv",
        "outputId": "77ba0388-2f56-430f-d887-5c3d42b21a32"
      },
      "execution_count": null,
      "outputs": [
        {
          "output_type": "stream",
          "name": "stdout",
          "text": [
            "Archive:  val2014.zip\n",
            "replace val2014/COCO_val2014_000000324670.jpg? [y]es, [n]o, [A]ll, [N]one, [r]ename: N\n",
            " extracting: val2014/COCO_val2014_000000220025.jpg  \n"
          ]
        }
      ]
    },
    {
      "cell_type": "code",
      "source": [
        "!git clone https://github.com/sgrvinod/a-PyTorch-Tutorial-to-Image-Captioning"
      ],
      "metadata": {
        "id": "FwJ755Y6uiBd",
        "colab": {
          "base_uri": "https://localhost:8080/"
        },
        "outputId": "122963ee-3750-4336-bb6f-b82b84b11e91"
      },
      "execution_count": null,
      "outputs": [
        {
          "output_type": "stream",
          "name": "stdout",
          "text": [
            "Cloning into 'a-PyTorch-Tutorial-to-Image-Captioning'...\n",
            "remote: Enumerating objects: 272, done.\u001b[K\n",
            "remote: Total 272 (delta 0), reused 0 (delta 0), pack-reused 272\u001b[K\n",
            "Receiving objects: 100% (272/272), 12.89 MiB | 8.47 MiB/s, done.\n",
            "Resolving deltas: 100% (146/146), done.\n"
          ]
        }
      ]
    },
    {
      "cell_type": "code",
      "source": [
        "cd \"/content/drive/MyDrive/CS376\""
      ],
      "metadata": {
        "colab": {
          "base_uri": "https://localhost:8080/"
        },
        "id": "6ocii6O6OGYb",
        "outputId": "261b4580-6990-4ce8-b089-a2f172a4374a"
      },
      "execution_count": null,
      "outputs": [
        {
          "output_type": "stream",
          "name": "stdout",
          "text": [
            "/content/drive/MyDrive/CS376\n"
          ]
        }
      ]
    },
    {
      "cell_type": "code",
      "source": [
        "cd \"a-PyTorch-Tutorial-to-Image-Captioning\""
      ],
      "metadata": {
        "colab": {
          "base_uri": "https://localhost:8080/"
        },
        "id": "ZQfhG3DtPBZc",
        "outputId": "a14f2fd0-416b-499a-f56f-c075e40316e5"
      },
      "execution_count": null,
      "outputs": [
        {
          "output_type": "stream",
          "name": "stdout",
          "text": [
            "/content/drive/MyDrive/CS376/a-PyTorch-Tutorial-to-Image-Captioning\n"
          ]
        }
      ]
    },
    {
      "cell_type": "code",
      "source": [
        "!pip install scipy==1.1.0"
      ],
      "metadata": {
        "colab": {
          "base_uri": "https://localhost:8080/"
        },
        "id": "NpX3l2a3PviD",
        "outputId": "6506d711-d58c-42f4-9aaf-fedc2e3a2998"
      },
      "execution_count": null,
      "outputs": [
        {
          "output_type": "stream",
          "name": "stdout",
          "text": [
            "Collecting scipy==1.1.0\n",
            "  Downloading scipy-1.1.0-cp37-cp37m-manylinux1_x86_64.whl (31.2 MB)\n",
            "\u001b[K     |████████████████████████████████| 31.2 MB 24.8 MB/s \n",
            "\u001b[?25hRequirement already satisfied: numpy>=1.8.2 in /usr/local/lib/python3.7/dist-packages (from scipy==1.1.0) (1.21.6)\n",
            "Installing collected packages: scipy\n",
            "  Attempting uninstall: scipy\n",
            "    Found existing installation: scipy 1.4.1\n",
            "    Uninstalling scipy-1.4.1:\n",
            "      Successfully uninstalled scipy-1.4.1\n",
            "\u001b[31mERROR: pip's dependency resolver does not currently take into account all the packages that are installed. This behaviour is the source of the following dependency conflicts.\n",
            "pymc3 3.11.4 requires scipy>=1.2.0, but you have scipy 1.1.0 which is incompatible.\n",
            "plotnine 0.6.0 requires scipy>=1.2.0, but you have scipy 1.1.0 which is incompatible.\n",
            "jax 0.3.8 requires scipy>=1.2.1, but you have scipy 1.1.0 which is incompatible.\n",
            "albumentations 0.1.12 requires imgaug<0.2.7,>=0.2.5, but you have imgaug 0.2.9 which is incompatible.\u001b[0m\n",
            "Successfully installed scipy-1.1.0\n"
          ]
        }
      ]
    },
    {
      "cell_type": "code",
      "source": [
        "!python create_input_files.py"
      ],
      "metadata": {
        "id": "71UZAN79P0Zv"
      },
      "execution_count": null,
      "outputs": []
    },
    {
      "cell_type": "code",
      "source": [
        "!python train.py"
      ],
      "metadata": {
        "colab": {
          "base_uri": "https://localhost:8080/"
        },
        "id": "77KOWeXxP78l",
        "outputId": "eab1f33a-85b8-4d5d-949a-fc7e714a851b"
      },
      "execution_count": null,
      "outputs": [
        {
          "output_type": "stream",
          "name": "stdout",
          "text": [
            "Epoch: [21][0/17702]\tBatch Time 48.001 (48.001)\tData Load Time 45.601 (45.601)\tLoss 2.8990 (2.8990)\tTop-5 Accuracy 81.461 (81.461)\n",
            "Epoch: [21][100/17702]\tBatch Time 0.349 (3.391)\tData Load Time 0.000 (3.002)\tLoss 3.3066 (2.9025)\tTop-5 Accuracy 72.603 (79.901)\n",
            "Epoch: [21][200/17702]\tBatch Time 0.364 (1.964)\tData Load Time 0.000 (1.585)\tLoss 3.0636 (2.9134)\tTop-5 Accuracy 78.167 (79.761)\n",
            "Epoch: [21][300/17702]\tBatch Time 0.358 (1.455)\tData Load Time 0.000 (1.081)\tLoss 2.9738 (2.9117)\tTop-5 Accuracy 78.342 (79.841)\n",
            "Epoch: [21][400/17702]\tBatch Time 0.374 (1.194)\tData Load Time 0.000 (0.822)\tLoss 2.9593 (2.9149)\tTop-5 Accuracy 78.628 (79.814)\n",
            "Epoch: [21][500/17702]\tBatch Time 0.357 (1.038)\tData Load Time 0.000 (0.667)\tLoss 3.0280 (2.9205)\tTop-5 Accuracy 77.135 (79.742)\n",
            "Epoch: [21][600/17702]\tBatch Time 0.378 (0.929)\tData Load Time 0.000 (0.558)\tLoss 3.1414 (2.9197)\tTop-5 Accuracy 75.978 (79.723)\n",
            "Epoch: [21][700/17702]\tBatch Time 0.360 (0.850)\tData Load Time 0.000 (0.479)\tLoss 2.9995 (2.9205)\tTop-5 Accuracy 78.415 (79.742)\n",
            "Epoch: [21][800/17702]\tBatch Time 0.381 (0.790)\tData Load Time 0.000 (0.420)\tLoss 3.0450 (2.9237)\tTop-5 Accuracy 77.067 (79.684)\n",
            "Epoch: [21][900/17702]\tBatch Time 0.361 (0.746)\tData Load Time 0.000 (0.377)\tLoss 2.8682 (2.9244)\tTop-5 Accuracy 78.512 (79.655)\n",
            "Epoch: [21][1000/17702]\tBatch Time 0.384 (0.711)\tData Load Time 0.000 (0.342)\tLoss 2.9659 (2.9253)\tTop-5 Accuracy 81.432 (79.622)\n",
            "Epoch: [21][1100/17702]\tBatch Time 0.357 (0.681)\tData Load Time 0.000 (0.312)\tLoss 2.9368 (2.9259)\tTop-5 Accuracy 78.771 (79.607)\n",
            "Epoch: [21][1200/17702]\tBatch Time 0.376 (0.655)\tData Load Time 0.000 (0.286)\tLoss 2.7716 (2.9256)\tTop-5 Accuracy 81.462 (79.607)\n",
            "Epoch: [21][1300/17702]\tBatch Time 0.373 (0.633)\tData Load Time 0.000 (0.264)\tLoss 2.8459 (2.9259)\tTop-5 Accuracy 80.392 (79.584)\n",
            "Epoch: [21][1400/17702]\tBatch Time 0.354 (0.614)\tData Load Time 0.000 (0.245)\tLoss 2.8886 (2.9259)\tTop-5 Accuracy 79.827 (79.598)\n",
            "Epoch: [21][1500/17702]\tBatch Time 0.355 (0.597)\tData Load Time 0.000 (0.229)\tLoss 3.0195 (2.9245)\tTop-5 Accuracy 77.746 (79.621)\n",
            "Epoch: [21][1600/17702]\tBatch Time 0.374 (0.583)\tData Load Time 0.000 (0.215)\tLoss 3.0250 (2.9262)\tTop-5 Accuracy 77.344 (79.596)\n",
            "Epoch: [21][1700/17702]\tBatch Time 0.368 (0.570)\tData Load Time 0.000 (0.202)\tLoss 2.9362 (2.9276)\tTop-5 Accuracy 77.624 (79.574)\n",
            "Epoch: [21][1800/17702]\tBatch Time 0.363 (0.559)\tData Load Time 0.000 (0.191)\tLoss 2.8877 (2.9266)\tTop-5 Accuracy 79.722 (79.586)\n",
            "Epoch: [21][1900/17702]\tBatch Time 0.383 (0.549)\tData Load Time 0.000 (0.181)\tLoss 2.9946 (2.9276)\tTop-5 Accuracy 77.749 (79.566)\n",
            "Epoch: [21][2000/17702]\tBatch Time 0.372 (0.540)\tData Load Time 0.000 (0.172)\tLoss 2.9704 (2.9276)\tTop-5 Accuracy 79.528 (79.567)\n",
            "Epoch: [21][2100/17702]\tBatch Time 0.447 (0.532)\tData Load Time 0.076 (0.164)\tLoss 3.2553 (2.9274)\tTop-5 Accuracy 72.775 (79.567)\n",
            "Epoch: [21][2200/17702]\tBatch Time 0.358 (0.524)\tData Load Time 0.000 (0.156)\tLoss 2.9733 (2.9278)\tTop-5 Accuracy 80.110 (79.565)\n",
            "Epoch: [21][2300/17702]\tBatch Time 0.361 (0.518)\tData Load Time 0.000 (0.149)\tLoss 3.0538 (2.9290)\tTop-5 Accuracy 79.726 (79.550)\n",
            "Epoch: [21][2400/17702]\tBatch Time 0.367 (0.511)\tData Load Time 0.000 (0.143)\tLoss 2.9701 (2.9299)\tTop-5 Accuracy 78.409 (79.535)\n",
            "Epoch: [21][2500/17702]\tBatch Time 0.379 (0.506)\tData Load Time 0.000 (0.138)\tLoss 3.1059 (2.9303)\tTop-5 Accuracy 78.250 (79.530)\n",
            "Epoch: [21][2600/17702]\tBatch Time 0.362 (0.501)\tData Load Time 0.000 (0.132)\tLoss 2.9775 (2.9307)\tTop-5 Accuracy 80.423 (79.533)\n",
            "Epoch: [21][2700/17702]\tBatch Time 0.362 (0.496)\tData Load Time 0.000 (0.127)\tLoss 2.9410 (2.9310)\tTop-5 Accuracy 81.351 (79.527)\n",
            "Epoch: [21][2800/17702]\tBatch Time 0.385 (0.491)\tData Load Time 0.000 (0.123)\tLoss 3.0455 (2.9309)\tTop-5 Accuracy 77.105 (79.534)\n",
            "Epoch: [21][2900/17702]\tBatch Time 0.365 (0.487)\tData Load Time 0.000 (0.119)\tLoss 2.7477 (2.9303)\tTop-5 Accuracy 81.301 (79.540)\n",
            "Epoch: [21][3000/17702]\tBatch Time 0.361 (0.483)\tData Load Time 0.001 (0.115)\tLoss 3.2852 (2.9306)\tTop-5 Accuracy 75.000 (79.527)\n",
            "Epoch: [21][3100/17702]\tBatch Time 0.354 (0.479)\tData Load Time 0.000 (0.111)\tLoss 3.1512 (2.9310)\tTop-5 Accuracy 77.159 (79.524)\n",
            "Epoch: [21][3200/17702]\tBatch Time 0.370 (0.476)\tData Load Time 0.000 (0.107)\tLoss 2.7785 (2.9315)\tTop-5 Accuracy 82.967 (79.513)\n",
            "Epoch: [21][3300/17702]\tBatch Time 0.378 (0.472)\tData Load Time 0.000 (0.104)\tLoss 2.6991 (2.9319)\tTop-5 Accuracy 84.350 (79.506)\n",
            "Epoch: [21][3400/17702]\tBatch Time 0.373 (0.469)\tData Load Time 0.000 (0.101)\tLoss 2.8854 (2.9319)\tTop-5 Accuracy 79.899 (79.506)\n",
            "Epoch: [21][3500/17702]\tBatch Time 0.352 (0.466)\tData Load Time 0.000 (0.098)\tLoss 2.9265 (2.9319)\tTop-5 Accuracy 78.873 (79.505)\n",
            "Epoch: [21][3600/17702]\tBatch Time 0.375 (0.464)\tData Load Time 0.000 (0.096)\tLoss 3.0802 (2.9322)\tTop-5 Accuracy 76.823 (79.504)\n",
            "Epoch: [21][3700/17702]\tBatch Time 0.367 (0.461)\tData Load Time 0.000 (0.093)\tLoss 2.8975 (2.9322)\tTop-5 Accuracy 79.570 (79.503)\n",
            "Epoch: [21][3800/17702]\tBatch Time 0.363 (0.459)\tData Load Time 0.000 (0.091)\tLoss 2.9157 (2.9329)\tTop-5 Accuracy 78.830 (79.493)\n",
            "Epoch: [21][3900/17702]\tBatch Time 0.369 (0.456)\tData Load Time 0.000 (0.088)\tLoss 2.7400 (2.9329)\tTop-5 Accuracy 82.466 (79.491)\n",
            "Epoch: [21][4000/17702]\tBatch Time 0.372 (0.454)\tData Load Time 0.000 (0.086)\tLoss 3.1851 (2.9336)\tTop-5 Accuracy 77.480 (79.478)\n",
            "Epoch: [21][4100/17702]\tBatch Time 0.357 (0.452)\tData Load Time 0.000 (0.084)\tLoss 2.6304 (2.9332)\tTop-5 Accuracy 83.143 (79.483)\n",
            "Epoch: [21][4200/17702]\tBatch Time 0.358 (0.450)\tData Load Time 0.000 (0.082)\tLoss 2.8622 (2.9334)\tTop-5 Accuracy 79.730 (79.475)\n",
            "Epoch: [21][4300/17702]\tBatch Time 0.364 (0.448)\tData Load Time 0.000 (0.080)\tLoss 2.8094 (2.9341)\tTop-5 Accuracy 78.889 (79.468)\n",
            "Epoch: [21][4400/17702]\tBatch Time 0.364 (0.446)\tData Load Time 0.000 (0.078)\tLoss 2.7363 (2.9340)\tTop-5 Accuracy 80.749 (79.473)\n",
            "Epoch: [21][4500/17702]\tBatch Time 0.380 (0.445)\tData Load Time 0.000 (0.076)\tLoss 2.9576 (2.9341)\tTop-5 Accuracy 78.610 (79.470)\n",
            "Epoch: [21][4600/17702]\tBatch Time 0.364 (0.443)\tData Load Time 0.000 (0.075)\tLoss 3.0720 (2.9341)\tTop-5 Accuracy 77.072 (79.472)\n",
            "Epoch: [21][4700/17702]\tBatch Time 0.376 (0.441)\tData Load Time 0.000 (0.073)\tLoss 3.1281 (2.9341)\tTop-5 Accuracy 76.984 (79.475)\n",
            "Epoch: [21][4800/17702]\tBatch Time 0.365 (0.440)\tData Load Time 0.000 (0.072)\tLoss 3.0389 (2.9343)\tTop-5 Accuracy 77.989 (79.475)\n",
            "Epoch: [21][4900/17702]\tBatch Time 0.362 (0.438)\tData Load Time 0.000 (0.070)\tLoss 2.8740 (2.9354)\tTop-5 Accuracy 79.224 (79.461)\n",
            "Epoch: [21][5000/17702]\tBatch Time 0.370 (0.437)\tData Load Time 0.000 (0.069)\tLoss 3.1071 (2.9360)\tTop-5 Accuracy 77.540 (79.451)\n",
            "Epoch: [21][5100/17702]\tBatch Time 0.350 (0.436)\tData Load Time 0.000 (0.068)\tLoss 2.7966 (2.9365)\tTop-5 Accuracy 81.395 (79.445)\n",
            "Epoch: [21][5200/17702]\tBatch Time 0.377 (0.434)\tData Load Time 0.000 (0.066)\tLoss 2.9311 (2.9366)\tTop-5 Accuracy 79.744 (79.444)\n",
            "Epoch: [21][5300/17702]\tBatch Time 0.374 (0.433)\tData Load Time 0.000 (0.065)\tLoss 2.8723 (2.9368)\tTop-5 Accuracy 80.874 (79.438)\n",
            "Epoch: [21][5400/17702]\tBatch Time 0.366 (0.432)\tData Load Time 0.000 (0.064)\tLoss 3.1028 (2.9371)\tTop-5 Accuracy 77.260 (79.435)\n",
            "Epoch: [21][5500/17702]\tBatch Time 0.378 (0.431)\tData Load Time 0.000 (0.063)\tLoss 3.0665 (2.9370)\tTop-5 Accuracy 78.663 (79.438)\n",
            "Epoch: [21][5600/17702]\tBatch Time 0.366 (0.429)\tData Load Time 0.000 (0.062)\tLoss 2.7772 (2.9368)\tTop-5 Accuracy 81.132 (79.439)\n",
            "Epoch: [21][5700/17702]\tBatch Time 0.366 (0.428)\tData Load Time 0.000 (0.060)\tLoss 3.2371 (2.9368)\tTop-5 Accuracy 76.503 (79.442)\n",
            "Epoch: [21][5800/17702]\tBatch Time 0.363 (0.427)\tData Load Time 0.000 (0.059)\tLoss 2.9257 (2.9373)\tTop-5 Accuracy 80.163 (79.433)\n",
            "Epoch: [21][5900/17702]\tBatch Time 0.369 (0.426)\tData Load Time 0.000 (0.058)\tLoss 2.7167 (2.9374)\tTop-5 Accuracy 82.353 (79.436)\n",
            "Epoch: [21][6000/17702]\tBatch Time 0.379 (0.425)\tData Load Time 0.000 (0.057)\tLoss 3.0398 (2.9377)\tTop-5 Accuracy 80.157 (79.433)\n",
            "Epoch: [21][6100/17702]\tBatch Time 0.389 (0.424)\tData Load Time 0.000 (0.056)\tLoss 2.9774 (2.9379)\tTop-5 Accuracy 79.487 (79.430)\n",
            "Epoch: [21][6200/17702]\tBatch Time 0.365 (0.424)\tData Load Time 0.000 (0.056)\tLoss 2.8973 (2.9384)\tTop-5 Accuracy 80.697 (79.423)\n",
            "Epoch: [21][6300/17702]\tBatch Time 0.409 (0.423)\tData Load Time 0.000 (0.055)\tLoss 2.8469 (2.9383)\tTop-5 Accuracy 82.564 (79.424)\n",
            "Epoch: [21][6400/17702]\tBatch Time 0.366 (0.422)\tData Load Time 0.000 (0.054)\tLoss 2.9723 (2.9389)\tTop-5 Accuracy 79.944 (79.416)\n",
            "Epoch: [21][6500/17702]\tBatch Time 0.368 (0.421)\tData Load Time 0.000 (0.053)\tLoss 2.8017 (2.9394)\tTop-5 Accuracy 78.378 (79.408)\n",
            "Epoch: [21][6600/17702]\tBatch Time 0.364 (0.420)\tData Load Time 0.000 (0.052)\tLoss 2.9507 (2.9397)\tTop-5 Accuracy 79.515 (79.404)\n",
            "Epoch: [21][6700/17702]\tBatch Time 0.372 (0.419)\tData Load Time 0.000 (0.051)\tLoss 2.8933 (2.9404)\tTop-5 Accuracy 77.551 (79.396)\n",
            "Epoch: [21][6800/17702]\tBatch Time 0.361 (0.419)\tData Load Time 0.000 (0.051)\tLoss 2.7536 (2.9406)\tTop-5 Accuracy 81.941 (79.398)\n",
            "Epoch: [21][6900/17702]\tBatch Time 0.356 (0.418)\tData Load Time 0.000 (0.050)\tLoss 2.9843 (2.9408)\tTop-5 Accuracy 80.523 (79.394)\n",
            "Epoch: [21][7000/17702]\tBatch Time 0.364 (0.417)\tData Load Time 0.000 (0.049)\tLoss 3.3350 (2.9412)\tTop-5 Accuracy 72.000 (79.388)\n",
            "Epoch: [21][7100/17702]\tBatch Time 0.355 (0.417)\tData Load Time 0.000 (0.049)\tLoss 2.9757 (2.9412)\tTop-5 Accuracy 77.809 (79.384)\n",
            "Epoch: [21][7200/17702]\tBatch Time 0.366 (0.416)\tData Load Time 0.000 (0.048)\tLoss 3.1582 (2.9415)\tTop-5 Accuracy 75.000 (79.382)\n",
            "Epoch: [21][7300/17702]\tBatch Time 0.372 (0.415)\tData Load Time 0.000 (0.047)\tLoss 3.0647 (2.9418)\tTop-5 Accuracy 79.365 (79.375)\n",
            "Epoch: [21][7400/17702]\tBatch Time 0.420 (0.415)\tData Load Time 0.000 (0.047)\tLoss 3.1351 (2.9425)\tTop-5 Accuracy 79.146 (79.368)\n",
            "Epoch: [21][7500/17702]\tBatch Time 0.413 (0.414)\tData Load Time 0.000 (0.046)\tLoss 3.0281 (2.9428)\tTop-5 Accuracy 79.790 (79.364)\n",
            "Epoch: [21][7600/17702]\tBatch Time 0.381 (0.413)\tData Load Time 0.000 (0.045)\tLoss 2.9520 (2.9433)\tTop-5 Accuracy 77.719 (79.359)\n",
            "Epoch: [21][7700/17702]\tBatch Time 0.380 (0.413)\tData Load Time 0.000 (0.045)\tLoss 3.1537 (2.9432)\tTop-5 Accuracy 77.020 (79.361)\n",
            "Epoch: [21][7800/17702]\tBatch Time 0.358 (0.412)\tData Load Time 0.000 (0.044)\tLoss 3.3959 (2.9433)\tTop-5 Accuracy 73.876 (79.358)\n",
            "Epoch: [21][7900/17702]\tBatch Time 0.434 (0.412)\tData Load Time 0.000 (0.044)\tLoss 3.1237 (2.9434)\tTop-5 Accuracy 77.206 (79.358)\n",
            "Epoch: [21][8000/17702]\tBatch Time 0.368 (0.411)\tData Load Time 0.001 (0.043)\tLoss 3.2802 (2.9433)\tTop-5 Accuracy 75.342 (79.358)\n",
            "Epoch: [21][8100/17702]\tBatch Time 0.359 (0.411)\tData Load Time 0.000 (0.043)\tLoss 2.9556 (2.9435)\tTop-5 Accuracy 79.121 (79.357)\n",
            "Epoch: [21][8200/17702]\tBatch Time 0.361 (0.410)\tData Load Time 0.000 (0.042)\tLoss 2.9735 (2.9438)\tTop-5 Accuracy 78.919 (79.356)\n",
            "Epoch: [21][8300/17702]\tBatch Time 0.363 (0.410)\tData Load Time 0.000 (0.042)\tLoss 2.8554 (2.9438)\tTop-5 Accuracy 81.006 (79.357)\n",
            "Epoch: [21][8400/17702]\tBatch Time 0.370 (0.409)\tData Load Time 0.000 (0.041)\tLoss 2.9918 (2.9440)\tTop-5 Accuracy 77.719 (79.355)\n",
            "Epoch: [21][8500/17702]\tBatch Time 0.361 (0.409)\tData Load Time 0.000 (0.041)\tLoss 3.3810 (2.9442)\tTop-5 Accuracy 74.929 (79.351)\n",
            "Epoch: [21][8600/17702]\tBatch Time 0.363 (0.408)\tData Load Time 0.000 (0.040)\tLoss 2.9497 (2.9441)\tTop-5 Accuracy 80.992 (79.350)\n",
            "Epoch: [21][8700/17702]\tBatch Time 0.357 (0.408)\tData Load Time 0.000 (0.040)\tLoss 2.9698 (2.9445)\tTop-5 Accuracy 79.501 (79.345)\n",
            "Epoch: [21][8800/17702]\tBatch Time 0.390 (0.407)\tData Load Time 0.000 (0.039)\tLoss 3.0341 (2.9446)\tTop-5 Accuracy 79.198 (79.344)\n",
            "Epoch: [21][8900/17702]\tBatch Time 0.410 (0.407)\tData Load Time 0.000 (0.039)\tLoss 3.2413 (2.9449)\tTop-5 Accuracy 75.676 (79.341)\n",
            "Epoch: [21][9000/17702]\tBatch Time 0.357 (0.406)\tData Load Time 0.000 (0.038)\tLoss 3.0562 (2.9452)\tTop-5 Accuracy 78.426 (79.340)\n",
            "Epoch: [21][9100/17702]\tBatch Time 0.372 (0.406)\tData Load Time 0.000 (0.038)\tLoss 2.8464 (2.9452)\tTop-5 Accuracy 82.143 (79.342)\n",
            "Epoch: [21][9200/17702]\tBatch Time 0.360 (0.405)\tData Load Time 0.000 (0.038)\tLoss 3.0557 (2.9453)\tTop-5 Accuracy 77.465 (79.341)\n",
            "Epoch: [21][9300/17702]\tBatch Time 0.398 (0.405)\tData Load Time 0.000 (0.037)\tLoss 2.9634 (2.9456)\tTop-5 Accuracy 78.608 (79.338)\n",
            "Epoch: [21][9400/17702]\tBatch Time 0.351 (0.405)\tData Load Time 0.000 (0.037)\tLoss 3.1560 (2.9462)\tTop-5 Accuracy 77.259 (79.331)\n",
            "Epoch: [21][9500/17702]\tBatch Time 0.354 (0.404)\tData Load Time 0.000 (0.036)\tLoss 2.9014 (2.9463)\tTop-5 Accuracy 79.330 (79.332)\n",
            "Epoch: [21][9600/17702]\tBatch Time 0.357 (0.404)\tData Load Time 0.000 (0.036)\tLoss 2.8716 (2.9464)\tTop-5 Accuracy 78.028 (79.331)\n",
            "Epoch: [21][9700/17702]\tBatch Time 0.366 (0.403)\tData Load Time 0.000 (0.036)\tLoss 2.9724 (2.9465)\tTop-5 Accuracy 80.851 (79.331)\n",
            "Epoch: [21][9800/17702]\tBatch Time 0.357 (0.403)\tData Load Time 0.000 (0.035)\tLoss 3.1196 (2.9468)\tTop-5 Accuracy 75.138 (79.327)\n",
            "Epoch: [21][9900/17702]\tBatch Time 0.367 (0.403)\tData Load Time 0.000 (0.035)\tLoss 2.9593 (2.9471)\tTop-5 Accuracy 81.644 (79.326)\n",
            "Epoch: [21][10000/17702]\tBatch Time 0.366 (0.402)\tData Load Time 0.000 (0.035)\tLoss 2.7866 (2.9473)\tTop-5 Accuracy 83.051 (79.324)\n",
            "Epoch: [21][10100/17702]\tBatch Time 0.370 (0.402)\tData Load Time 0.000 (0.034)\tLoss 3.2480 (2.9473)\tTop-5 Accuracy 73.600 (79.325)\n",
            "Epoch: [21][10200/17702]\tBatch Time 0.380 (0.402)\tData Load Time 0.000 (0.034)\tLoss 3.0101 (2.9477)\tTop-5 Accuracy 78.590 (79.321)\n",
            "Epoch: [21][10300/17702]\tBatch Time 0.346 (0.401)\tData Load Time 0.000 (0.034)\tLoss 2.7914 (2.9480)\tTop-5 Accuracy 81.953 (79.317)\n",
            "Epoch: [21][10400/17702]\tBatch Time 0.349 (0.401)\tData Load Time 0.000 (0.033)\tLoss 2.8824 (2.9480)\tTop-5 Accuracy 82.493 (79.319)\n",
            "Epoch: [21][10500/17702]\tBatch Time 0.360 (0.401)\tData Load Time 0.000 (0.033)\tLoss 2.7851 (2.9481)\tTop-5 Accuracy 78.393 (79.318)\n",
            "Epoch: [21][10600/17702]\tBatch Time 0.362 (0.400)\tData Load Time 0.000 (0.033)\tLoss 2.8232 (2.9483)\tTop-5 Accuracy 80.286 (79.314)\n",
            "Epoch: [21][10700/17702]\tBatch Time 0.351 (0.400)\tData Load Time 0.000 (0.032)\tLoss 3.0767 (2.9484)\tTop-5 Accuracy 77.810 (79.315)\n",
            "Epoch: [21][10800/17702]\tBatch Time 0.367 (0.400)\tData Load Time 0.000 (0.032)\tLoss 2.9812 (2.9485)\tTop-5 Accuracy 79.019 (79.316)\n",
            "Epoch: [21][10900/17702]\tBatch Time 0.354 (0.400)\tData Load Time 0.000 (0.032)\tLoss 2.5761 (2.9488)\tTop-5 Accuracy 84.211 (79.311)\n",
            "Epoch: [21][11000/17702]\tBatch Time 0.355 (0.399)\tData Load Time 0.000 (0.031)\tLoss 3.2492 (2.9490)\tTop-5 Accuracy 75.749 (79.308)\n",
            "Epoch: [21][11100/17702]\tBatch Time 0.359 (0.399)\tData Load Time 0.000 (0.031)\tLoss 3.2503 (2.9491)\tTop-5 Accuracy 75.910 (79.308)\n",
            "Epoch: [21][11200/17702]\tBatch Time 0.356 (0.399)\tData Load Time 0.000 (0.031)\tLoss 3.1234 (2.9494)\tTop-5 Accuracy 77.401 (79.306)\n",
            "Epoch: [21][11300/17702]\tBatch Time 0.371 (0.398)\tData Load Time 0.000 (0.031)\tLoss 2.9222 (2.9495)\tTop-5 Accuracy 80.055 (79.306)\n",
            "Epoch: [21][11400/17702]\tBatch Time 0.387 (0.398)\tData Load Time 0.000 (0.030)\tLoss 2.8860 (2.9498)\tTop-5 Accuracy 78.016 (79.302)\n",
            "Epoch: [21][11500/17702]\tBatch Time 0.370 (0.398)\tData Load Time 0.000 (0.030)\tLoss 2.8753 (2.9501)\tTop-5 Accuracy 79.365 (79.297)\n",
            "Epoch: [21][11600/17702]\tBatch Time 0.363 (0.398)\tData Load Time 0.000 (0.030)\tLoss 3.0045 (2.9505)\tTop-5 Accuracy 79.339 (79.293)\n",
            "Epoch: [21][11700/17702]\tBatch Time 0.358 (0.397)\tData Load Time 0.000 (0.030)\tLoss 2.6594 (2.9507)\tTop-5 Accuracy 82.709 (79.290)\n",
            "Epoch: [21][11800/17702]\tBatch Time 0.400 (0.397)\tData Load Time 0.000 (0.029)\tLoss 2.8806 (2.9509)\tTop-5 Accuracy 80.808 (79.289)\n",
            "Epoch: [21][11900/17702]\tBatch Time 0.378 (0.397)\tData Load Time 0.001 (0.029)\tLoss 3.2471 (2.9512)\tTop-5 Accuracy 75.263 (79.286)\n",
            "Epoch: [21][12000/17702]\tBatch Time 0.363 (0.397)\tData Load Time 0.000 (0.029)\tLoss 3.0645 (2.9515)\tTop-5 Accuracy 78.022 (79.281)\n",
            "Epoch: [21][12100/17702]\tBatch Time 0.360 (0.396)\tData Load Time 0.000 (0.029)\tLoss 3.0881 (2.9516)\tTop-5 Accuracy 79.501 (79.281)\n",
            "Epoch: [21][12200/17702]\tBatch Time 0.366 (0.396)\tData Load Time 0.000 (0.028)\tLoss 2.7043 (2.9517)\tTop-5 Accuracy 82.682 (79.279)\n",
            "Epoch: [21][12300/17702]\tBatch Time 0.360 (0.396)\tData Load Time 0.000 (0.028)\tLoss 2.9094 (2.9519)\tTop-5 Accuracy 81.303 (79.277)\n",
            "Epoch: [21][12400/17702]\tBatch Time 0.388 (0.396)\tData Load Time 0.000 (0.028)\tLoss 3.0934 (2.9522)\tTop-5 Accuracy 79.412 (79.272)\n",
            "Epoch: [21][12500/17702]\tBatch Time 0.359 (0.396)\tData Load Time 0.000 (0.028)\tLoss 3.0265 (2.9526)\tTop-5 Accuracy 80.274 (79.267)\n",
            "Epoch: [21][12600/17702]\tBatch Time 0.358 (0.395)\tData Load Time 0.000 (0.027)\tLoss 3.0079 (2.9526)\tTop-5 Accuracy 78.286 (79.268)\n",
            "Epoch: [21][12700/17702]\tBatch Time 0.359 (0.395)\tData Load Time 0.000 (0.027)\tLoss 2.8572 (2.9528)\tTop-5 Accuracy 80.737 (79.265)\n",
            "Epoch: [21][12800/17702]\tBatch Time 0.371 (0.395)\tData Load Time 0.000 (0.027)\tLoss 2.9171 (2.9530)\tTop-5 Accuracy 81.432 (79.262)\n",
            "Epoch: [21][12900/17702]\tBatch Time 0.372 (0.395)\tData Load Time 0.000 (0.027)\tLoss 2.7963 (2.9531)\tTop-5 Accuracy 82.011 (79.262)\n",
            "Epoch: [21][13000/17702]\tBatch Time 0.355 (0.394)\tData Load Time 0.000 (0.027)\tLoss 3.0534 (2.9534)\tTop-5 Accuracy 75.921 (79.259)\n",
            "Epoch: [21][13100/17702]\tBatch Time 0.349 (0.394)\tData Load Time 0.000 (0.026)\tLoss 2.9167 (2.9537)\tTop-5 Accuracy 79.320 (79.254)\n",
            "Epoch: [21][13200/17702]\tBatch Time 0.379 (0.394)\tData Load Time 0.000 (0.026)\tLoss 3.0553 (2.9540)\tTop-5 Accuracy 76.923 (79.249)\n",
            "Epoch: [21][13300/17702]\tBatch Time 0.368 (0.394)\tData Load Time 0.000 (0.026)\tLoss 2.8959 (2.9541)\tTop-5 Accuracy 78.836 (79.249)\n",
            "Epoch: [21][13400/17702]\tBatch Time 0.366 (0.394)\tData Load Time 0.000 (0.026)\tLoss 2.8484 (2.9543)\tTop-5 Accuracy 79.467 (79.246)\n",
            "Epoch: [21][13500/17702]\tBatch Time 0.362 (0.394)\tData Load Time 0.000 (0.026)\tLoss 3.0882 (2.9542)\tTop-5 Accuracy 77.446 (79.248)\n",
            "Epoch: [21][13600/17702]\tBatch Time 0.357 (0.393)\tData Load Time 0.000 (0.025)\tLoss 2.5630 (2.9544)\tTop-5 Accuracy 86.376 (79.249)\n",
            "Epoch: [21][13700/17702]\tBatch Time 0.364 (0.393)\tData Load Time 0.000 (0.025)\tLoss 2.9376 (2.9546)\tTop-5 Accuracy 79.459 (79.247)\n",
            "Epoch: [21][13800/17702]\tBatch Time 0.355 (0.393)\tData Load Time 0.000 (0.025)\tLoss 3.1514 (2.9547)\tTop-5 Accuracy 75.143 (79.245)\n",
            "Epoch: [21][13900/17702]\tBatch Time 0.427 (0.393)\tData Load Time 0.000 (0.025)\tLoss 2.8206 (2.9550)\tTop-5 Accuracy 81.586 (79.242)\n",
            "Epoch: [21][14000/17702]\tBatch Time 0.369 (0.393)\tData Load Time 0.000 (0.025)\tLoss 3.2819 (2.9552)\tTop-5 Accuracy 74.462 (79.238)\n",
            "Epoch: [21][14100/17702]\tBatch Time 0.355 (0.392)\tData Load Time 0.000 (0.025)\tLoss 2.8751 (2.9553)\tTop-5 Accuracy 82.320 (79.238)\n",
            "Epoch: [21][14200/17702]\tBatch Time 0.355 (0.392)\tData Load Time 0.000 (0.024)\tLoss 2.9471 (2.9555)\tTop-5 Accuracy 77.971 (79.236)\n",
            "Epoch: [21][14300/17702]\tBatch Time 0.381 (0.392)\tData Load Time 0.000 (0.024)\tLoss 3.2263 (2.9557)\tTop-5 Accuracy 75.064 (79.233)\n",
            "Epoch: [21][14400/17702]\tBatch Time 0.353 (0.392)\tData Load Time 0.000 (0.024)\tLoss 2.9800 (2.9560)\tTop-5 Accuracy 79.037 (79.231)\n",
            "Epoch: [21][14500/17702]\tBatch Time 0.372 (0.392)\tData Load Time 0.000 (0.024)\tLoss 3.1119 (2.9561)\tTop-5 Accuracy 74.648 (79.229)\n",
            "Epoch: [21][14600/17702]\tBatch Time 0.361 (0.392)\tData Load Time 0.000 (0.024)\tLoss 3.1629 (2.9563)\tTop-5 Accuracy 77.994 (79.228)\n",
            "Epoch: [21][14700/17702]\tBatch Time 0.367 (0.391)\tData Load Time 0.000 (0.024)\tLoss 3.0342 (2.9564)\tTop-5 Accuracy 77.546 (79.226)\n",
            "Epoch: [21][14800/17702]\tBatch Time 0.375 (0.391)\tData Load Time 0.000 (0.023)\tLoss 2.8213 (2.9564)\tTop-5 Accuracy 80.965 (79.227)\n",
            "Epoch: [21][14900/17702]\tBatch Time 0.358 (0.391)\tData Load Time 0.000 (0.023)\tLoss 2.9734 (2.9565)\tTop-5 Accuracy 78.531 (79.225)\n",
            "Epoch: [21][15000/17702]\tBatch Time 0.396 (0.391)\tData Load Time 0.000 (0.023)\tLoss 3.0334 (2.9566)\tTop-5 Accuracy 76.781 (79.223)\n",
            "Epoch: [21][15100/17702]\tBatch Time 0.370 (0.391)\tData Load Time 0.000 (0.023)\tLoss 3.0140 (2.9570)\tTop-5 Accuracy 80.000 (79.218)\n",
            "Epoch: [21][15200/17702]\tBatch Time 0.370 (0.391)\tData Load Time 0.000 (0.023)\tLoss 2.8439 (2.9570)\tTop-5 Accuracy 82.065 (79.218)\n",
            "Epoch: [21][15300/17702]\tBatch Time 0.366 (0.391)\tData Load Time 0.000 (0.023)\tLoss 2.8809 (2.9571)\tTop-5 Accuracy 78.497 (79.218)\n",
            "Epoch: [21][15400/17702]\tBatch Time 0.378 (0.390)\tData Load Time 0.000 (0.022)\tLoss 2.7740 (2.9573)\tTop-5 Accuracy 79.365 (79.215)\n",
            "Epoch: [21][15500/17702]\tBatch Time 0.364 (0.390)\tData Load Time 0.000 (0.022)\tLoss 2.7927 (2.9574)\tTop-5 Accuracy 82.609 (79.215)\n",
            "Epoch: [21][15600/17702]\tBatch Time 0.377 (0.390)\tData Load Time 0.000 (0.022)\tLoss 3.3440 (2.9576)\tTop-5 Accuracy 75.683 (79.214)\n",
            "Epoch: [21][15700/17702]\tBatch Time 0.365 (0.390)\tData Load Time 0.000 (0.022)\tLoss 2.9435 (2.9578)\tTop-5 Accuracy 77.719 (79.211)\n",
            "Epoch: [21][15800/17702]\tBatch Time 0.380 (0.390)\tData Load Time 0.000 (0.022)\tLoss 2.8228 (2.9578)\tTop-5 Accuracy 81.402 (79.211)\n",
            "Epoch: [21][15900/17702]\tBatch Time 0.381 (0.390)\tData Load Time 0.000 (0.022)\tLoss 2.8762 (2.9581)\tTop-5 Accuracy 81.414 (79.209)\n",
            "Epoch: [21][16000/17702]\tBatch Time 0.359 (0.390)\tData Load Time 0.000 (0.022)\tLoss 3.0847 (2.9584)\tTop-5 Accuracy 73.743 (79.207)\n",
            "Epoch: [21][16100/17702]\tBatch Time 0.351 (0.389)\tData Load Time 0.000 (0.022)\tLoss 2.8527 (2.9584)\tTop-5 Accuracy 79.775 (79.207)\n",
            "Epoch: [21][16200/17702]\tBatch Time 0.357 (0.389)\tData Load Time 0.000 (0.021)\tLoss 2.7594 (2.9586)\tTop-5 Accuracy 82.051 (79.205)\n",
            "Epoch: [21][16300/17702]\tBatch Time 0.383 (0.389)\tData Load Time 0.000 (0.021)\tLoss 3.1874 (2.9589)\tTop-5 Accuracy 74.084 (79.202)\n",
            "Epoch: [21][16400/17702]\tBatch Time 0.384 (0.389)\tData Load Time 0.000 (0.021)\tLoss 2.9732 (2.9591)\tTop-5 Accuracy 78.763 (79.199)\n",
            "Epoch: [21][16500/17702]\tBatch Time 0.375 (0.389)\tData Load Time 0.000 (0.021)\tLoss 3.1117 (2.9591)\tTop-5 Accuracy 79.775 (79.197)\n",
            "Epoch: [21][16600/17702]\tBatch Time 0.368 (0.389)\tData Load Time 0.000 (0.021)\tLoss 3.2516 (2.9593)\tTop-5 Accuracy 75.207 (79.195)\n",
            "Epoch: [21][16700/17702]\tBatch Time 0.353 (0.389)\tData Load Time 0.000 (0.021)\tLoss 3.1865 (2.9593)\tTop-5 Accuracy 76.923 (79.195)\n",
            "Epoch: [21][16800/17702]\tBatch Time 0.368 (0.389)\tData Load Time 0.000 (0.021)\tLoss 2.9403 (2.9594)\tTop-5 Accuracy 79.781 (79.195)\n",
            "Epoch: [21][16900/17702]\tBatch Time 0.370 (0.388)\tData Load Time 0.000 (0.021)\tLoss 2.7218 (2.9597)\tTop-5 Accuracy 83.377 (79.192)\n",
            "Epoch: [21][17000/17702]\tBatch Time 0.378 (0.388)\tData Load Time 0.000 (0.020)\tLoss 2.9622 (2.9600)\tTop-5 Accuracy 78.906 (79.188)\n",
            "Epoch: [21][17100/17702]\tBatch Time 0.366 (0.388)\tData Load Time 0.000 (0.020)\tLoss 3.2137 (2.9603)\tTop-5 Accuracy 75.339 (79.186)\n",
            "Epoch: [21][17200/17702]\tBatch Time 0.358 (0.388)\tData Load Time 0.000 (0.020)\tLoss 3.2068 (2.9605)\tTop-5 Accuracy 74.063 (79.183)\n",
            "Epoch: [21][17300/17702]\tBatch Time 0.359 (0.388)\tData Load Time 0.000 (0.020)\tLoss 3.3056 (2.9607)\tTop-5 Accuracy 76.301 (79.181)\n",
            "Epoch: [21][17400/17702]\tBatch Time 0.381 (0.388)\tData Load Time 0.000 (0.020)\tLoss 2.7813 (2.9609)\tTop-5 Accuracy 82.609 (79.180)\n",
            "Epoch: [21][17500/17702]\tBatch Time 0.375 (0.388)\tData Load Time 0.000 (0.020)\tLoss 2.7849 (2.9609)\tTop-5 Accuracy 82.663 (79.178)\n",
            "Epoch: [21][17600/17702]\tBatch Time 0.371 (0.388)\tData Load Time 0.000 (0.020)\tLoss 2.9705 (2.9611)\tTop-5 Accuracy 80.726 (79.178)\n",
            "Epoch: [21][17700/17702]\tBatch Time 0.353 (0.387)\tData Load Time 0.000 (0.020)\tLoss 2.9918 (2.9613)\tTop-5 Accuracy 80.833 (79.178)\n",
            "Validation: [0/782]\tBatch Time 18.304 (18.304)\tLoss 3.2458 (3.2458)\tTop-5 Accuracy 75.482 (75.482)\t\n",
            "Validation: [100/782]\tBatch Time 0.294 (0.513)\tLoss 3.1329 (3.2859)\tTop-5 Accuracy 80.902 (75.791)\t\n",
            "Validation: [200/782]\tBatch Time 0.281 (0.397)\tLoss 3.4004 (3.2693)\tTop-5 Accuracy 73.077 (75.892)\t\n",
            "Validation: [300/782]\tBatch Time 0.267 (0.356)\tLoss 3.0578 (3.2532)\tTop-5 Accuracy 79.675 (76.141)\t\n",
            "Validation: [400/782]\tBatch Time 0.270 (0.335)\tLoss 3.2737 (3.2509)\tTop-5 Accuracy 73.816 (76.199)\t\n",
            "Validation: [500/782]\tBatch Time 0.274 (0.324)\tLoss 3.4034 (3.2528)\tTop-5 Accuracy 75.833 (76.198)\t\n",
            "Validation: [600/782]\tBatch Time 0.269 (0.316)\tLoss 3.0981 (3.2539)\tTop-5 Accuracy 81.283 (76.215)\t\n",
            "Validation: [700/782]\tBatch Time 0.278 (0.310)\tLoss 3.5894 (3.2537)\tTop-5 Accuracy 71.159 (76.227)\t\n",
            "\n",
            " * LOSS - 3.251, TOP-5 ACCURACY - 76.256, BLEU-4 - 0.2316714238293562\n",
            "\n",
            "\n",
            "Epochs since last improvement: 1\n",
            "\n",
            "Epoch: [22][0/17702]\tBatch Time 0.867 (0.867)\tData Load Time 0.404 (0.404)\tLoss 3.0892 (3.0892)\tTop-5 Accuracy 77.225 (77.225)\n",
            "Traceback (most recent call last):\n",
            "  File \"train.py\", line 331, in <module>\n",
            "    main()\n",
            "  File \"train.py\", line 116, in main\n",
            "    epoch=epoch)\n",
            "  File \"train.py\", line 172, in train\n",
            "    scores, caps_sorted, decode_lengths, alphas, sort_ind = decoder(imgs, caps, caplens)\n",
            "  File \"/usr/local/lib/python3.7/dist-packages/torch/nn/modules/module.py\", line 1110, in _call_impl\n",
            "    return forward_call(*input, **kwargs)\n",
            "  File \"/content/drive/MyDrive/CS376/a-PyTorch-Tutorial-to-Image-Captioning/models.py\", line 192, in forward\n",
            "    decode_lengths = (caption_lengths - 1).tolist()\n",
            "KeyboardInterrupt\n"
          ]
        }
      ]
    },
    {
      "cell_type": "code",
      "source": [
        "!python eval.py"
      ],
      "metadata": {
        "id": "pnknJiYx4N98",
        "colab": {
          "base_uri": "https://localhost:8080/"
        },
        "outputId": "c26005c3-5bde-4204-c587-1bc9fec0a445"
      },
      "execution_count": null,
      "outputs": [
        {
          "output_type": "stream",
          "name": "stdout",
          "text": [
            "EVALUATING AT BEAM SIZE 1: 100% 25000/25000 [14:53<00:00, 27.98it/s]\n",
            "\n",
            "BLEU-4 score @ beam size of 1 is 0.2723.\n"
          ]
        }
      ]
    },
    {
      "cell_type": "code",
      "source": [
        "!python caption.py --img /content/drive/MyDrive/CS376/datasets/test2014/COCO_test2014_000000000001.jpg --model /content/drive/MyDrive/CS376/a-PyTorch-Tutorial-to-Image-Captioning/BEST_checkpoint_coco_5_cap_per_img_5_min_word_freq.pth.tar --word_map /content/drive/MyDrive/CS376/datasets/WORDMAP_coco_5_cap_per_img_5_min_word_freq.json"
      ],
      "metadata": {
        "colab": {
          "base_uri": "https://localhost:8080/"
        },
        "id": "Mze99PK2eN5H",
        "outputId": "f6d9904b-315e-474b-c67d-be076ac405de"
      },
      "execution_count": null,
      "outputs": [
        {
          "output_type": "stream",
          "name": "stdout",
          "text": [
            "caption.py:32: DeprecationWarning:     `imread` is deprecated!\n",
            "    `imread` is deprecated in SciPy 1.0.0, and will be removed in 1.2.0.\n",
            "    Use ``imageio.imread`` instead.\n",
            "  img = imread(image_path)\n",
            "caption.py:36: DeprecationWarning:     `imresize` is deprecated!\n",
            "    `imresize` is deprecated in SciPy 1.0.0, and will be removed in 1.2.0.\n",
            "    Use ``skimage.transform.resize`` instead.\n",
            "  img = imresize(img, (256, 256))\n",
            "<Figure size 640x480 with 13 Axes>\n"
          ]
        }
      ]
    },
    {
      "cell_type": "code",
      "source": [
        "import torch\n",
        "import torch.nn.functional as F\n",
        "import numpy as np\n",
        "import json\n",
        "import torchvision.transforms as transforms\n",
        "import matplotlib.pyplot as plt\n",
        "import matplotlib.cm as cm\n",
        "import skimage.transform\n",
        "import argparse\n",
        "from scipy.misc import imread, imresize\n",
        "from PIL import Image\n",
        "\n",
        "device = torch.device(\"cuda\" if torch.cuda.is_available() else \"cpu\")\n",
        "\n",
        "\n",
        "def caption_image_beam_search(encoder, decoder, image_path, word_map, beam_size=3):\n",
        "    \"\"\"\n",
        "    Reads an image and captions it with beam search.\n",
        "\n",
        "    :param encoder: encoder model\n",
        "    :param decoder: decoder model\n",
        "    :param image_path: path to image\n",
        "    :param word_map: word map\n",
        "    :param beam_size: number of sequences to consider at each decode-step\n",
        "    :return: caption, weights for visualization\n",
        "    \"\"\"\n",
        "\n",
        "    k = beam_size\n",
        "    vocab_size = len(word_map)\n",
        "\n",
        "    # Read image and process\n",
        "    img = imread(image_path)\n",
        "    if len(img.shape) == 2:\n",
        "        img = img[:, :, np.newaxis]\n",
        "        img = np.concatenate([img, img, img], axis=2)\n",
        "    img = imresize(img, (256, 256))\n",
        "    img = img.transpose(2, 0, 1)\n",
        "    img = img / 255.\n",
        "    img = torch.FloatTensor(img).to(device)\n",
        "    normalize = transforms.Normalize(mean=[0.485, 0.456, 0.406],\n",
        "                                     std=[0.229, 0.224, 0.225])\n",
        "    transform = transforms.Compose([normalize])\n",
        "    image = transform(img)  # (3, 256, 256)\n",
        "\n",
        "    # Encode\n",
        "    image = image.unsqueeze(0)  # (1, 3, 256, 256)\n",
        "    encoder_out = encoder(image)  # (1, enc_image_size, enc_image_size, encoder_dim)\n",
        "    enc_image_size = encoder_out.size(1)\n",
        "    encoder_dim = encoder_out.size(3)\n",
        "\n",
        "    # Flatten encoding\n",
        "    encoder_out = encoder_out.view(1, -1, encoder_dim)  # (1, num_pixels, encoder_dim)\n",
        "    num_pixels = encoder_out.size(1)\n",
        "\n",
        "    # We'll treat the problem as having a batch size of k\n",
        "    encoder_out = encoder_out.expand(k, num_pixels, encoder_dim)  # (k, num_pixels, encoder_dim)\n",
        "\n",
        "    # Tensor to store top k previous words at each step; now they're just <start>\n",
        "    k_prev_words = torch.LongTensor([[word_map['<start>']]] * k).to(device)  # (k, 1)\n",
        "\n",
        "    # Tensor to store top k sequences; now they're just <start>\n",
        "    seqs = k_prev_words  # (k, 1)\n",
        "\n",
        "    # Tensor to store top k sequences' scores; now they're just 0\n",
        "    top_k_scores = torch.zeros(k, 1).to(device)  # (k, 1)\n",
        "\n",
        "    # Tensor to store top k sequences' alphas; now they're just 1s\n",
        "    seqs_alpha = torch.ones(k, 1, enc_image_size, enc_image_size).to(device)  # (k, 1, enc_image_size, enc_image_size)\n",
        "\n",
        "    # Lists to store completed sequences, their alphas and scores\n",
        "    complete_seqs = list()\n",
        "    complete_seqs_alpha = list()\n",
        "    complete_seqs_scores = list()\n",
        "\n",
        "    # Start decoding\n",
        "    step = 1\n",
        "    h, c = decoder.init_hidden_state(encoder_out)\n",
        "\n",
        "    # s is a number less than or equal to k, because sequences are removed from this process once they hit <end>\n",
        "    while True:\n",
        "\n",
        "        embeddings = decoder.embedding(k_prev_words).squeeze(1)  # (s, embed_dim)\n",
        "\n",
        "        awe, alpha = decoder.attention(encoder_out, h)  # (s, encoder_dim), (s, num_pixels)\n",
        "\n",
        "        alpha = alpha.view(-1, enc_image_size, enc_image_size)  # (s, enc_image_size, enc_image_size)\n",
        "\n",
        "        gate = decoder.sigmoid(decoder.f_beta(h))  # gating scalar, (s, encoder_dim)\n",
        "        awe = gate * awe\n",
        "\n",
        "        h, c = decoder.decode_step(torch.cat([embeddings, awe], dim=1), (h, c))  # (s, decoder_dim)\n",
        "\n",
        "        scores = decoder.fc(h)  # (s, vocab_size)\n",
        "        scores = F.log_softmax(scores, dim=1)\n",
        "\n",
        "        # Add\n",
        "        scores = top_k_scores.expand_as(scores) + scores  # (s, vocab_size)\n",
        "\n",
        "        # For the first step, all k points will have the same scores (since same k previous words, h, c)\n",
        "        if step == 1:\n",
        "            top_k_scores, top_k_words = scores[0].topk(k, 0, True, True)  # (s)\n",
        "        else:\n",
        "            # Unroll and find top scores, and their unrolled indices\n",
        "            top_k_scores, top_k_words = scores.view(-1).topk(k, 0, True, True)  # (s)\n",
        "\n",
        "        # Convert unrolled indices to actual indices of scores\n",
        "        prev_word_inds = (top_k_words / vocab_size).long()  # (s)\n",
        "        next_word_inds = top_k_words % vocab_size  # (s)\n",
        "\n",
        "        # Add new words to sequences, alphas\n",
        "        seqs = torch.cat([seqs[prev_word_inds], next_word_inds.unsqueeze(1)], dim=1)  # (s, step+1)\n",
        "        seqs_alpha = torch.cat([seqs_alpha[prev_word_inds], alpha[prev_word_inds].unsqueeze(1)],\n",
        "                               dim=1)  # (s, step+1, enc_image_size, enc_image_size)\n",
        "\n",
        "        # Which sequences are incomplete (didn't reach <end>)?\n",
        "        incomplete_inds = [ind for ind, next_word in enumerate(next_word_inds) if\n",
        "                           next_word != word_map['<end>']]\n",
        "        complete_inds = list(set(range(len(next_word_inds))) - set(incomplete_inds))\n",
        "\n",
        "        # Set aside complete sequences\n",
        "        if len(complete_inds) > 0:\n",
        "            complete_seqs.extend(seqs[complete_inds].tolist())\n",
        "            complete_seqs_alpha.extend(seqs_alpha[complete_inds].tolist())\n",
        "            complete_seqs_scores.extend(top_k_scores[complete_inds])\n",
        "        k -= len(complete_inds)  # reduce beam length accordingly\n",
        "\n",
        "        # Proceed with incomplete sequences\n",
        "        if k == 0:\n",
        "            break\n",
        "        seqs = seqs[incomplete_inds]\n",
        "        seqs_alpha = seqs_alpha[incomplete_inds]\n",
        "        h = h[prev_word_inds[incomplete_inds]]\n",
        "        c = c[prev_word_inds[incomplete_inds]]\n",
        "        encoder_out = encoder_out[prev_word_inds[incomplete_inds]]\n",
        "        top_k_scores = top_k_scores[incomplete_inds].unsqueeze(1)\n",
        "        k_prev_words = next_word_inds[incomplete_inds].unsqueeze(1)\n",
        "\n",
        "        # Break if things have been going on too long\n",
        "        if step > 50:\n",
        "            break\n",
        "        step += 1\n",
        "\n",
        "    i = complete_seqs_scores.index(max(complete_seqs_scores))\n",
        "    seq = complete_seqs[i]\n",
        "    alphas = complete_seqs_alpha[i]\n",
        "\n",
        "    return seq, alphas\n",
        "\n",
        "\n",
        "def visualize_att(image_path, seq, alphas, rev_word_map, smooth=True):\n",
        "    \"\"\"\n",
        "    Visualizes caption with weights at every word.\n",
        "\n",
        "    Adapted from paper authors' repo: https://github.com/kelvinxu/arctic-captions/blob/master/alpha_visualization.ipynb\n",
        "\n",
        "    :param image_path: path to image that has been captioned\n",
        "    :param seq: caption\n",
        "    :param alphas: weights\n",
        "    :param rev_word_map: reverse word mapping, i.e. ix2word\n",
        "    :param smooth: smooth weights?\n",
        "    \"\"\"\n",
        "    image = Image.open(image_path)\n",
        "    image = image.resize([14 * 24, 14 * 24], Image.LANCZOS)\n",
        "\n",
        "    words = [rev_word_map[ind] for ind in seq]\n",
        "\n",
        "    for t in range(len(words)):\n",
        "        if t > 50:\n",
        "            break\n",
        "        plt.subplot(np.ceil(len(words) / 5.), 5, t + 1)\n",
        "\n",
        "        plt.text(0, 1, '%s' % (words[t]), color='black', backgroundcolor='white', fontsize=12)\n",
        "        plt.imshow(image)\n",
        "        current_alpha = alphas[t, :]\n",
        "        if smooth:\n",
        "            alpha = skimage.transform.pyramid_expand(current_alpha.numpy(), upscale=24, sigma=8)\n",
        "        else:\n",
        "            alpha = skimage.transform.resize(current_alpha.numpy(), [14 * 24, 14 * 24])\n",
        "        if t == 0:\n",
        "            plt.imshow(alpha, alpha=0)\n",
        "        else:\n",
        "            plt.imshow(alpha, alpha=0.8)\n",
        "        plt.set_cmap(cm.Greys_r)\n",
        "        plt.axis('off')\n",
        "    plt.show()\n",
        "\n",
        "\n",
        "args_img = \"/content/drive/MyDrive/CS376/datasets/test2014/COCO_test2014_000000000027.jpg\"\n",
        "args_model = \"/content/drive/MyDrive/CS376/a-PyTorch-Tutorial-to-Image-Captioning/BEST_checkpoint_coco_5_cap_per_img_5_min_word_freq.pth.tar\"\n",
        "args_word_map = \"/content/drive/MyDrive/CS376/datasets/WORDMAP_coco_5_cap_per_img_5_min_word_freq.json\"\n",
        "\n",
        "# Load model\n",
        "checkpoint = torch.load(args_model, map_location=str(device))\n",
        "decoder = checkpoint['decoder']\n",
        "decoder = decoder.to(device)\n",
        "decoder.eval()\n",
        "encoder = checkpoint['encoder']\n",
        "encoder = encoder.to(device)\n",
        "encoder.eval()\n",
        "\n",
        "# Load word map (word2ix)\n",
        "with open(args_word_map, 'r') as j:\n",
        "    word_map = json.load(j)\n",
        "rev_word_map = {v: k for k, v in word_map.items()}  # ix2word\n",
        "\n",
        "# Encode, decode with attention and beam search\n",
        "seq, alphas = caption_image_beam_search(encoder, decoder, args_img, word_map, 5)\n",
        "alphas = torch.FloatTensor(alphas)\n",
        "\n",
        "# Visualize caption and attention of best sequence\n",
        "visualize_att(args_img, seq, alphas, rev_word_map)\n"
      ],
      "metadata": {
        "colab": {
          "base_uri": "https://localhost:8080/",
          "height": 374
        },
        "id": "ImQGiuHKwVCC",
        "outputId": "4671db21-90d2-491a-8056-4bb39605c6db"
      },
      "execution_count": null,
      "outputs": [
        {
          "output_type": "stream",
          "name": "stderr",
          "text": [
            "/usr/local/lib/python3.7/dist-packages/ipykernel_launcher.py:32: DeprecationWarning:     `imread` is deprecated!\n",
            "    `imread` is deprecated in SciPy 1.0.0, and will be removed in 1.2.0.\n",
            "    Use ``imageio.imread`` instead.\n",
            "/usr/local/lib/python3.7/dist-packages/ipykernel_launcher.py:36: DeprecationWarning:     `imresize` is deprecated!\n",
            "    `imresize` is deprecated in SciPy 1.0.0, and will be removed in 1.2.0.\n",
            "    Use ``skimage.transform.resize`` instead.\n"
          ]
        },
        {
          "output_type": "display_data",
          "data": {
            "text/plain": [
              "<Figure size 432x288 with 12 Axes>"
            ],
            "image/png": "[encoded data removed]"
          },
          "metadata": {
            "needs_background": "light"
          }
        }
      ]
    },
    {
      "cell_type": "code",
      "source": [
        ""
      ],
      "metadata": {
        "id": "ecvTVRvsyGOR"
      },
      "execution_count": null,
      "outputs": []
    },
    {
      "cell_type": "code",
      "source": [
        ""
      ],
      "metadata": {
        "id": "An3ZyIywySYp"
      },
      "execution_count": null,
      "outputs": []
    }
  ]
}